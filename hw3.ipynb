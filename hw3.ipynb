{
 "cells": [
  {
   "cell_type": "markdown",
   "id": "acba2c8a-8257-4b96-b967-1560fbd47acd",
   "metadata": {},
   "source": [
    "## Homework\n",
    "### Question 1. dlt Version"
   ]
  },
  {
   "cell_type": "markdown",
   "id": "f2837ed0-bee8-4654-bca4-20dc4b6dee18",
   "metadata": {},
   "source": [
    "In this homework, we will load the data from our FAQ to Qdrant\n",
    "\n",
    "Let's install dlt with Qdrant support and Qdrant client:\n",
    "\n",
    "```bash\n",
    "pip install -q \"dlt[qdrant]\" \"qdrant-client[fastembed]\"\n",
    "What's the version of dlt that you installed?\n",
    "```\n",
    "\n",
    "#### dlt Resourse"
   ]
  },
  {
   "cell_type": "code",
   "execution_count": 1,
   "id": "fbd71899-d9b6-49bd-a1c3-afe79e828bdb",
   "metadata": {},
   "outputs": [
    {
     "name": "stdout",
     "output_type": "stream",
     "text": [
      "\u001b[33mWARNING: Running pip as the 'root' user can result in broken permissions and conflicting behaviour with the system package manager. It is recommended to use a virtual environment instead: https://pip.pypa.io/warnings/venv\u001b[0m\u001b[33m\n",
      "\u001b[0m\n",
      "\u001b[1m[\u001b[0m\u001b[34;49mnotice\u001b[0m\u001b[1;39;49m]\u001b[0m\u001b[39;49m A new release of pip is available: \u001b[0m\u001b[31;49m24.0\u001b[0m\u001b[39;49m -> \u001b[0m\u001b[32;49m25.1.1\u001b[0m\n",
      "\u001b[1m[\u001b[0m\u001b[34;49mnotice\u001b[0m\u001b[1;39;49m]\u001b[0m\u001b[39;49m To update, run: \u001b[0m\u001b[32;49mpip install --upgrade pip\u001b[0m\n"
     ]
    }
   ],
   "source": [
    "!pip install -q \"dlt[qdrant]\" \"qdrant-client[fastembed]\""
   ]
  },
  {
   "cell_type": "code",
   "execution_count": 2,
   "id": "84ac8d36-9ea3-4f55-9802-941030f37bb3",
   "metadata": {},
   "outputs": [],
   "source": [
    "import dlt"
   ]
  },
  {
   "cell_type": "markdown",
   "id": "2299eef5-9fd1-495a-877d-f4c086f63e7c",
   "metadata": {},
   "source": [
    "## A1"
   ]
  },
  {
   "cell_type": "code",
   "execution_count": 10,
   "id": "0dc1811b-65fa-4957-b78b-9a738e7fbdaf",
   "metadata": {},
   "outputs": [],
   "source": [
    "import requests"
   ]
  },
  {
   "cell_type": "code",
   "execution_count": 3,
   "id": "e8d86938-c56d-4336-ab43-acd93fa843da",
   "metadata": {},
   "outputs": [
    {
     "data": {
      "text/plain": [
       "'1.13.0'"
      ]
     },
     "execution_count": 3,
     "metadata": {},
     "output_type": "execute_result"
    }
   ],
   "source": [
    "dlt.__version__"
   ]
  },
  {
   "cell_type": "markdown",
   "id": "628f5c53-25dd-4599-9db9-c30b4bee7750",
   "metadata": {},
   "source": [
    "For reading the FAQ data, we have this helper function:\n",
    "\n",
    "```bash\n",
    "def zoomcamp_data():\n",
    "    docs_url = 'https://github.com/alexeygrigorev/llm-rag-workshop/raw/main/notebooks/documents.json'\n",
    "    docs_response = requests.get(docs_url)\n",
    "    documents_raw = docs_response.json()\n",
    "\n",
    "    for course in documents_raw:\n",
    "        course_name = course['course']\n",
    "\n",
    "        for doc in course['documents']:\n",
    "            doc['course'] = course_name\n",
    "            yield doc\n",
    "```\n",
    "\n",
    "Annotate it with @dlt.resource. We will use it when creating a dlt pipeline."
   ]
  },
  {
   "cell_type": "markdown",
   "id": "e570b04f-d7e9-406c-9401-d791ced54863",
   "metadata": {},
   "source": [
    "## Question 2. dlt pipeline\n",
    "\n",
    "Now let's create a pipeline.\n",
    "\n",
    "We need to define a destination for that. Let's use the qdrant one:\n",
    "\n",
    "```bash\n",
    "from dlt.destinations import qdrant\n",
    "\n",
    "qdrant_destination = qdrant(\n",
    "  qd_path=\"db.qdrant\", \n",
    ")\n",
    "```\n",
    "\n",
    "In this case, we tell dlt (and Qdrant) to create a folder with our data, and the name for it will be db.qdrant\n",
    "\n",
    "Let's run it:\n",
    "\n",
    "```\n",
    "pipeline = dlt.pipeline(\n",
    "    pipeline_name=\"zoomcamp_pipeline\",\n",
    "    destination=qdrant_destination,\n",
    "    dataset_name=\"zoomcamp_tagged_data\"\n",
    "\n",
    ")\n",
    "load_info = pipeline.run(zoomcamp_data())\n",
    "print(pipeline.last_trace)\n",
    "```\n",
    "\n",
    "How many rows were inserted into the zoomcamp_data collection?\n",
    "\n",
    "Look for `\"Normalized data for the following tables:\"` in the trace output."
   ]
  },
  {
   "cell_type": "code",
   "execution_count": 5,
   "id": "ed159c9f-82c0-4366-be0f-f5aceb6bdde0",
   "metadata": {},
   "outputs": [],
   "source": [
    "def zoomcamp_data():\n",
    "    docs_url = 'https://github.com/alexeygrigorev/llm-rag-workshop/raw/main/notebooks/documents.json'\n",
    "    docs_response = requests.get(docs_url)\n",
    "    documents_raw = docs_response.json()\n",
    "\n",
    "    for course in documents_raw:\n",
    "        course_name = course['course']\n",
    "\n",
    "        for doc in course['documents']:\n",
    "            doc['course'] = course_name\n",
    "            yield doc"
   ]
  },
  {
   "cell_type": "code",
   "execution_count": 7,
   "id": "046e3145-9724-4f8b-931d-2602e450a0ce",
   "metadata": {},
   "outputs": [],
   "source": [
    "from dlt.destinations import qdrant\n",
    "\n",
    "qdrant_destination = qdrant(\n",
    "  qd_path=\"db.qdrant\", \n",
    ")"
   ]
  },
  {
   "cell_type": "code",
   "execution_count": 11,
   "id": "c6867c28-d60d-4563-9799-9e035820c0bd",
   "metadata": {},
   "outputs": [],
   "source": [
    "pipeline = dlt.pipeline(\n",
    "    pipeline_name=\"zoomcamp_pipeline\",\n",
    "    destination=qdrant_destination,\n",
    "    dataset_name=\"zoomcamp_tagged_data\"\n",
    "\n",
    ")\n",
    "load_info = pipeline.run(zoomcamp_data())\n",
    "#print(pipeline.last_trace)"
   ]
  },
  {
   "cell_type": "code",
   "execution_count": 14,
   "id": "9ec2544d-4325-4d19-8cf5-ee115650f3cc",
   "metadata": {},
   "outputs": [
    {
     "name": "stdout",
     "output_type": "stream",
     "text": [
      "Run started at 2025-07-10 03:01:47.229220+00:00 and COMPLETED in 20.56 seconds with 4 steps.\n",
      "Step extract COMPLETED in 1.31 seconds.\n",
      "\n",
      "Load package 1752116508.1447442 is EXTRACTED and NOT YET LOADED to the destination and contains no failed jobs\n",
      "\n",
      "Step normalize COMPLETED in 0.09 seconds.\n",
      "Normalized data for the following tables:\n",
      "- zoomcamp_data: 948 row(s)\n",
      "- _dlt_pipeline_state: 1 row(s)\n",
      "\n",
      "Load package 1752116508.1447442 is NORMALIZED and NOT YET LOADED to the destination and contains no failed jobs\n",
      "\n",
      "Step load COMPLETED in 18.25 seconds.\n",
      "Pipeline zoomcamp_pipeline load step completed in 18.23 seconds\n",
      "1 load package(s) were loaded to destination qdrant and into dataset zoomcamp_tagged_data\n",
      "The qdrant destination used /app/db.qdrant location to store data\n",
      "Load package 1752116508.1447442 is LOADED and contains no failed jobs\n",
      "\n",
      "Step run COMPLETED in 20.56 seconds.\n",
      "Pipeline zoomcamp_pipeline load step completed in 18.23 seconds\n",
      "1 load package(s) were loaded to destination qdrant and into dataset zoomcamp_tagged_data\n",
      "The qdrant destination used /app/db.qdrant location to store data\n",
      "Load package 1752116508.1447442 is LOADED and contains no failed jobs\n"
     ]
    }
   ],
   "source": [
    "print(pipeline.last_trace)"
   ]
  },
  {
   "cell_type": "markdown",
   "id": "a4fd0cc3-56e1-48c2-a9c5-026421a545f6",
   "metadata": {},
   "source": [
    "A2.\n",
    "\n",
    "Normalized data for the following tables:\n",
    "- zoomcamp_data: 948 row(s)\n",
    "- _dlt_pipeline_state: 1 row(s)\n"
   ]
  },
  {
   "cell_type": "markdown",
   "id": "291268d2-215c-4509-8b47-88ea5cbfc4df",
   "metadata": {},
   "source": [
    "## Question 3. Embeddings\n",
    "When inserting the data, an embedding model was used. Which one?\n",
    "\n",
    "You can find this out by inspecting the meta.json file created in the target folder."
   ]
  },
  {
   "cell_type": "code",
   "execution_count": 17,
   "id": "e05ece47-9287-42cf-9050-593ba41dcd5e",
   "metadata": {},
   "outputs": [
    {
     "data": {
      "text/plain": [
       "['.ipynb_checkpoints',\n",
       " 'db.qdrant',\n",
       " 'docker-compose.yml',\n",
       " 'Dockerfile',\n",
       " 'hw3.ipynb',\n",
       " 'qdrant_storage']"
      ]
     },
     "execution_count": 17,
     "metadata": {},
     "output_type": "execute_result"
    }
   ],
   "source": [
    "import os\n",
    "os.listdir()"
   ]
  },
  {
   "cell_type": "code",
   "execution_count": 15,
   "id": "965e2a66-29c0-4fca-9bfe-877ee6556c33",
   "metadata": {},
   "outputs": [],
   "source": [
    "import json"
   ]
  },
  {
   "cell_type": "code",
   "execution_count": 22,
   "id": "1a13219e-e7a9-4e61-9ddc-b208e49dd34b",
   "metadata": {},
   "outputs": [],
   "source": [
    "with open(\"db.qdrant/meta.json\", 'r', encoding='utf-8') as f_in:\n",
    "    dict_ = json.load(f_in)"
   ]
  },
  {
   "cell_type": "markdown",
   "id": "517e4c32-a96b-45b2-97fe-704a507c4854",
   "metadata": {},
   "source": [
    "## A3"
   ]
  },
  {
   "cell_type": "code",
   "execution_count": 28,
   "id": "abbc7f7d-7f64-465e-abfb-62b1952a7db9",
   "metadata": {},
   "outputs": [
    {
     "data": {
      "text/plain": [
       "{'fast-bge-small-en': {'size': 384,\n",
       "  'distance': 'Cosine',\n",
       "  'hnsw_config': None,\n",
       "  'quantization_config': None,\n",
       "  'on_disk': None,\n",
       "  'datatype': None,\n",
       "  'multivector_config': None}}"
      ]
     },
     "execution_count": 28,
     "metadata": {},
     "output_type": "execute_result"
    }
   ],
   "source": [
    "dict_['collections']['zoomcamp_tagged_data']['vectors']"
   ]
  }
 ],
 "metadata": {
  "kernelspec": {
   "display_name": "Python 3 (ipykernel)",
   "language": "python",
   "name": "python3"
  },
  "language_info": {
   "codemirror_mode": {
    "name": "ipython",
    "version": 3
   },
   "file_extension": ".py",
   "mimetype": "text/x-python",
   "name": "python",
   "nbconvert_exporter": "python",
   "pygments_lexer": "ipython3",
   "version": "3.11.13"
  }
 },
 "nbformat": 4,
 "nbformat_minor": 5
}
