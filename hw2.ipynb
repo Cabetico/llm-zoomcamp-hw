{
 "cells": [
  {
   "cell_type": "markdown",
   "id": "04a56c33-61b1-44f6-842c-5e9f3f9d358f",
   "metadata": {},
   "source": [
    "### Embeddings\n",
    "\n",
    "Qdrants uses ![](fastembed) under the hood to turn text into vectors.\n",
    "\n",
    "We will now explore this library\n",
    "\n",
    "Make sure it's installed:"
   ]
  },
  {
   "cell_type": "code",
   "execution_count": 2,
   "id": "9a48eb68-519d-4777-b70e-02e940218314",
   "metadata": {},
   "outputs": [],
   "source": [
    "from fastembed import TextEmbedding"
   ]
  },
  {
   "cell_type": "markdown",
   "id": "c8a19de1-f3bc-48cd-b13f-47085311a8f3",
   "metadata": {},
   "source": [
    "## Q1. Embedding the query\n",
    "\n",
    "Embed the query: `'I just discovered the course. Can I join now?'`. Use the `'jinaai/jina-embeddings-v2-small-en'` model.\n",
    "\n",
    "You should get a numpy array of size 512.\n",
    "\n",
    "What's the minimal value in this array?\n",
    "\n",
    "* -0.51\n",
    "* -0.11\n",
    "* 0\n",
    "* 0.51"
   ]
  },
  {
   "cell_type": "markdown",
   "id": "0aeb8a43-2496-4b4b-8799-8e55843f4b4a",
   "metadata": {},
   "source": [
    "## A1."
   ]
  },
  {
   "cell_type": "code",
   "execution_count": 3,
   "id": "eb1ef40f-e1a9-47f7-8597-2113ba8d2f88",
   "metadata": {},
   "outputs": [],
   "source": [
    "model_handle = \"jinaai/jina-embeddings-v2-small-en\""
   ]
  },
  {
   "cell_type": "code",
   "execution_count": 4,
   "id": "cddd6078-625e-45b0-8f54-bd91c1f05727",
   "metadata": {},
   "outputs": [
    {
     "name": "stdout",
     "output_type": "stream",
     "text": [
      "Help on function query_embed in module fastembed.text.text_embedding:\n",
      "\n",
      "query_embed(self, query: Union[str, Iterable[str]], **kwargs: Any) -> Iterable[Union[numpy.ndarray[tuple[Any, ...], numpy.dtype[numpy.float64]], numpy.ndarray[tuple[Any, ...], numpy.dtype[numpy.float32]], numpy.ndarray[tuple[Any, ...], numpy.dtype[numpy.float16]], numpy.ndarray[tuple[Any, ...], numpy.dtype[numpy.int8]], numpy.ndarray[tuple[Any, ...], numpy.dtype[numpy.int64]], numpy.ndarray[tuple[Any, ...], numpy.dtype[numpy.int32]]]]\n",
      "    Embeds queries\n",
      "    \n",
      "    Args:\n",
      "        query (Union[str, Iterable[str]]): The query to embed, or an iterable e.g. list of queries.\n",
      "    \n",
      "    Returns:\n",
      "        Iterable[NumpyArray]: The embeddings.\n",
      "\n"
     ]
    }
   ],
   "source": [
    "help(TextEmbedding.query_embed)"
   ]
  },
  {
   "cell_type": "code",
   "execution_count": 5,
   "id": "22497593-dbab-4ce3-ba19-7232bb4c9c15",
   "metadata": {},
   "outputs": [],
   "source": [
    "import numpy as np"
   ]
  },
  {
   "cell_type": "code",
   "execution_count": 6,
   "id": "af308acd-1305-4027-bce1-723e6cd3cfc2",
   "metadata": {},
   "outputs": [],
   "source": [
    "query = 'I just discovered the course. Can I join now?'"
   ]
  },
  {
   "cell_type": "code",
   "execution_count": 7,
   "id": "be5b34d7-09b4-45f3-aea2-effb9558429d",
   "metadata": {},
   "outputs": [
    {
     "name": "stderr",
     "output_type": "stream",
     "text": [
      "Fetching 5 files: 100%|██████████████████████████████████████████████████████████████████████████████████████████████████████████████████████| 5/5 [00:04<00:00,  1.04it/s]\n"
     ]
    }
   ],
   "source": [
    "model = TextEmbedding(model_name=model_handle)"
   ]
  },
  {
   "cell_type": "code",
   "execution_count": 8,
   "id": "91bbf4e4-a9b3-4b4c-b85e-afc62296e3e3",
   "metadata": {},
   "outputs": [
    {
     "data": {
      "text/plain": [
       "np.float64(-0.11726373885183883)"
      ]
     },
     "execution_count": 8,
     "metadata": {},
     "output_type": "execute_result"
    }
   ],
   "source": [
    "np.min(list(model.embed([query]))[0])"
   ]
  },
  {
   "cell_type": "markdown",
   "id": "917e33cc-7b51-46a4-8598-4595497d88db",
   "metadata": {},
   "source": [
    "### Cosine similarity\n",
    "\n",
    "The vectors that our embedding model returns are already normalized: their length is 1.0.\n",
    "\n",
    "You can chech that by using the norm function:\n",
    "\n",
    "```bash\n",
    "import numpy as np\n",
    "np.linalg.norm(q)\n",
    "``` \n",
    "\n",
    "Which means that we can simply compute the dot product between two vectors to learn the cosine similarity between them.\n",
    "\n",
    "For example, if you compute the cosine of the query vector with itself, the result will be 1.0:\n",
    "\n",
    "```bash\n",
    "q.dot(q)\n",
    "```"
   ]
  },
  {
   "cell_type": "code",
   "execution_count": 16,
   "id": "a38404cb-e566-470a-92ca-56d8fb1f8c32",
   "metadata": {},
   "outputs": [
    {
     "data": {
      "text/plain": [
       "np.float64(1.0)"
      ]
     },
     "execution_count": 16,
     "metadata": {},
     "output_type": "execute_result"
    }
   ],
   "source": [
    "np.linalg.norm(list(model.embed([query]))[0])\n",
    "#np.min(list(model.embed([bash_doc]))[0])"
   ]
  },
  {
   "cell_type": "markdown",
   "id": "b27f38f6-998a-4266-b50c-9fb16fb33759",
   "metadata": {},
   "source": [
    "## Q2. Cosine similarity with another vector"
   ]
  },
  {
   "cell_type": "markdown",
   "id": "121e8d50-ded6-447b-b7a7-f4617d4c6c7a",
   "metadata": {},
   "source": [
    "Now let's embed this document:\n",
    "\n",
    "```bash doc = 'Can I still join the course after the start date?' ```\n",
    "\n",
    "\n",
    "What's the cosine similarity between the vector for the query and the vector for the document?\n",
    "\n",
    "* 0.3\n",
    "* 0.5\n",
    "* 0.7\n",
    "* 0.9"
   ]
  },
  {
   "cell_type": "markdown",
   "id": "18414a64-3dd7-47af-883a-5950a08729b8",
   "metadata": {},
   "source": [
    "## A2."
   ]
  },
  {
   "cell_type": "code",
   "execution_count": 20,
   "id": "66c7a2b1-fac2-439a-b735-27c2cc72796c",
   "metadata": {},
   "outputs": [
    {
     "data": {
      "text/plain": [
       "np.float64(0.9008528895674548)"
      ]
     },
     "execution_count": 20,
     "metadata": {},
     "output_type": "execute_result"
    }
   ],
   "source": [
    "bash_doc = 'Can I still join the course after the start date?'\n",
    "list(model.embed([query]))[0].dot(list(model.embed([bash_doc]))[0])"
   ]
  },
  {
   "cell_type": "markdown",
   "id": "c9f89a14-49fa-4321-b303-7a5792ab749c",
   "metadata": {},
   "source": [
    "## Q3. Ranking by cosine\n",
    "For Q3 and Q4 we will use these documents:\n",
    "\n",
    "```bash\n",
    "documents = [{'text': \"Yes, even if you don't register, you're still eligible to submit the homeworks.\\nBe aware, however, that there will be deadlines for turning in the final projects. So don't leave everything for the last minute.\",\n",
    "  'section': 'General course-related questions',\n",
    "  'question': 'Course - Can I still join the course after the start date?',\n",
    "  'course': 'data-engineering-zoomcamp'},\n",
    " {'text': 'Yes, we will keep all the materials after the course finishes, so you can follow the course at your own pace after it finishes.\\nYou can also continue looking at the homeworks and continue preparing for the next cohort. I guess you can also start working on your final capstone project.',\n",
    "  'section': 'General course-related questions',\n",
    "  'question': 'Course - Can I follow the course after it finishes?',\n",
    "  'course': 'data-engineering-zoomcamp'},\n",
    " {'text': \"The purpose of this document is to capture frequently asked technical questions\\nThe exact day and hour of the course will be 15th Jan 2024 at 17h00. The course will start with the first  “Office Hours'' live.1\\nSubscribe to course public Google Calendar (it works from Desktop only).\\nRegister before the course starts using this link.\\nJoin the course Telegram channel with announcements.\\nDon’t forget to register in DataTalks.Club's Slack and join the channel.\",\n",
    "  'section': 'General course-related questions',\n",
    "  'question': 'Course - When will the course start?',\n",
    "  'course': 'data-engineering-zoomcamp'},\n",
    " {'text': 'You can start by installing and setting up all the dependencies and requirements:\\nGoogle cloud account\\nGoogle Cloud SDK\\nPython 3 (installed with Anaconda)\\nTerraform\\nGit\\nLook over the prerequisites and syllabus to see if you are comfortable with these subjects.',\n",
    "  'section': 'General course-related questions',\n",
    "  'question': 'Course - What can I do before the course starts?',\n",
    "  'course': 'data-engineering-zoomcamp'},\n",
    " {'text': 'Star the repo! Share it with friends if you find it useful ❣️\\nCreate a PR if you see you can improve the text or the structure of the repository.',\n",
    "  'section': 'General course-related questions',\n",
    "  'question': 'How can we contribute to the course?',\n",
    "  'course': 'data-engineering-zoomcamp'}]\n",
    "```\n"
   ]
  }
 ],
 "metadata": {
  "kernelspec": {
   "display_name": "Python 3 (ipykernel)",
   "language": "python",
   "name": "python3"
  },
  "language_info": {
   "codemirror_mode": {
    "name": "ipython",
    "version": 3
   },
   "file_extension": ".py",
   "mimetype": "text/x-python",
   "name": "python",
   "nbconvert_exporter": "python",
   "pygments_lexer": "ipython3",
   "version": "3.11.13"
  }
 },
 "nbformat": 4,
 "nbformat_minor": 5
}
