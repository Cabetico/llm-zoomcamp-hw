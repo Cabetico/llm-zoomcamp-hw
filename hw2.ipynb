{
 "cells": [
  {
   "cell_type": "markdown",
   "id": "04a56c33-61b1-44f6-842c-5e9f3f9d358f",
   "metadata": {},
   "source": [
    "### Embeddings\n",
    "\n",
    "Qdrants uses ![](fastembed) under the hood to turn text into vectors.\n",
    "\n",
    "We will now explore this library\n",
    "\n",
    "Make sure it's installed:"
   ]
  },
  {
   "cell_type": "code",
   "execution_count": 97,
   "id": "9a48eb68-519d-4777-b70e-02e940218314",
   "metadata": {},
   "outputs": [],
   "source": [
    "from fastembed import TextEmbedding"
   ]
  },
  {
   "cell_type": "markdown",
   "id": "c8a19de1-f3bc-48cd-b13f-47085311a8f3",
   "metadata": {},
   "source": [
    "## Q1. Embedding the query\n",
    "\n",
    "Embed the query: `'I just discovered the course. Can I join now?'`. Use the `'jinaai/jina-embeddings-v2-small-en'` model.\n",
    "\n",
    "You should get a numpy array of size 512.\n",
    "\n",
    "What's the minimal value in this array?\n",
    "\n",
    "* -0.51\n",
    "* -0.11\n",
    "* 0\n",
    "* 0.51"
   ]
  },
  {
   "cell_type": "markdown",
   "id": "0aeb8a43-2496-4b4b-8799-8e55843f4b4a",
   "metadata": {},
   "source": [
    "## A1."
   ]
  },
  {
   "cell_type": "code",
   "execution_count": 98,
   "id": "eb1ef40f-e1a9-47f7-8597-2113ba8d2f88",
   "metadata": {},
   "outputs": [],
   "source": [
    "model_handle = \"jinaai/jina-embeddings-v2-small-en\""
   ]
  },
  {
   "cell_type": "code",
   "execution_count": 99,
   "id": "cddd6078-625e-45b0-8f54-bd91c1f05727",
   "metadata": {},
   "outputs": [
    {
     "name": "stdout",
     "output_type": "stream",
     "text": [
      "Help on function query_embed in module fastembed.text.text_embedding:\n",
      "\n",
      "query_embed(self, query: Union[str, Iterable[str]], **kwargs: Any) -> Iterable[Union[numpy.ndarray[tuple[Any, ...], numpy.dtype[numpy.float64]], numpy.ndarray[tuple[Any, ...], numpy.dtype[numpy.float32]], numpy.ndarray[tuple[Any, ...], numpy.dtype[numpy.float16]], numpy.ndarray[tuple[Any, ...], numpy.dtype[numpy.int8]], numpy.ndarray[tuple[Any, ...], numpy.dtype[numpy.int64]], numpy.ndarray[tuple[Any, ...], numpy.dtype[numpy.int32]]]]\n",
      "    Embeds queries\n",
      "    \n",
      "    Args:\n",
      "        query (Union[str, Iterable[str]]): The query to embed, or an iterable e.g. list of queries.\n",
      "    \n",
      "    Returns:\n",
      "        Iterable[NumpyArray]: The embeddings.\n",
      "\n"
     ]
    }
   ],
   "source": [
    "help(TextEmbedding.query_embed)"
   ]
  },
  {
   "cell_type": "code",
   "execution_count": 100,
   "id": "22497593-dbab-4ce3-ba19-7232bb4c9c15",
   "metadata": {},
   "outputs": [],
   "source": [
    "import numpy as np"
   ]
  },
  {
   "cell_type": "code",
   "execution_count": 101,
   "id": "af308acd-1305-4027-bce1-723e6cd3cfc2",
   "metadata": {},
   "outputs": [],
   "source": [
    "query = 'I just discovered the course. Can I join now?'"
   ]
  },
  {
   "cell_type": "code",
   "execution_count": 102,
   "id": "be5b34d7-09b4-45f3-aea2-effb9558429d",
   "metadata": {},
   "outputs": [],
   "source": [
    "model = TextEmbedding(model_name=model_handle)"
   ]
  },
  {
   "cell_type": "code",
   "execution_count": 103,
   "id": "91bbf4e4-a9b3-4b4c-b85e-afc62296e3e3",
   "metadata": {},
   "outputs": [
    {
     "data": {
      "text/plain": [
       "np.float64(-0.11726373885183883)"
      ]
     },
     "execution_count": 103,
     "metadata": {},
     "output_type": "execute_result"
    }
   ],
   "source": [
    "np.min(list(model.embed([query]))[0])"
   ]
  },
  {
   "cell_type": "markdown",
   "id": "917e33cc-7b51-46a4-8598-4595497d88db",
   "metadata": {},
   "source": [
    "### Cosine similarity\n",
    "\n",
    "The vectors that our embedding model returns are already normalized: their length is 1.0.\n",
    "\n",
    "You can chech that by using the norm function:\n",
    "\n",
    "```bash\n",
    "import numpy as np\n",
    "np.linalg.norm(q)\n",
    "``` \n",
    "\n",
    "Which means that we can simply compute the dot product between two vectors to learn the cosine similarity between them.\n",
    "\n",
    "For example, if you compute the cosine of the query vector with itself, the result will be 1.0:\n",
    "\n",
    "```bash\n",
    "q.dot(q)\n",
    "```"
   ]
  },
  {
   "cell_type": "code",
   "execution_count": 104,
   "id": "a38404cb-e566-470a-92ca-56d8fb1f8c32",
   "metadata": {},
   "outputs": [
    {
     "data": {
      "text/plain": [
       "np.float64(1.0)"
      ]
     },
     "execution_count": 104,
     "metadata": {},
     "output_type": "execute_result"
    }
   ],
   "source": [
    "np.linalg.norm(list(model.embed([query]))[0])\n",
    "#np.min(list(model.embed([bash_doc]))[0])"
   ]
  },
  {
   "cell_type": "markdown",
   "id": "b27f38f6-998a-4266-b50c-9fb16fb33759",
   "metadata": {},
   "source": [
    "## Q2. Cosine similarity with another vector"
   ]
  },
  {
   "cell_type": "markdown",
   "id": "121e8d50-ded6-447b-b7a7-f4617d4c6c7a",
   "metadata": {},
   "source": [
    "Now let's embed this document:\n",
    "\n",
    "```bash doc = 'Can I still join the course after the start date?' ```\n",
    "\n",
    "\n",
    "What's the cosine similarity between the vector for the query and the vector for the document?\n",
    "\n",
    "* 0.3\n",
    "* 0.5\n",
    "* 0.7\n",
    "* 0.9"
   ]
  },
  {
   "cell_type": "markdown",
   "id": "18414a64-3dd7-47af-883a-5950a08729b8",
   "metadata": {},
   "source": [
    "## A2."
   ]
  },
  {
   "cell_type": "code",
   "execution_count": 105,
   "id": "66c7a2b1-fac2-439a-b735-27c2cc72796c",
   "metadata": {},
   "outputs": [
    {
     "data": {
      "text/plain": [
       "np.float64(0.9008528895674548)"
      ]
     },
     "execution_count": 105,
     "metadata": {},
     "output_type": "execute_result"
    }
   ],
   "source": [
    "bash_doc = 'Can I still join the course after the start date?'\n",
    "list(model.embed([query]))[0].dot(list(model.embed([bash_doc]))[0])"
   ]
  },
  {
   "cell_type": "markdown",
   "id": "c9f89a14-49fa-4321-b303-7a5792ab749c",
   "metadata": {},
   "source": [
    "## Q3. Ranking by cosine\n",
    "For Q3 and Q4 we will use these documents:\n",
    "\n",
    "```bash\n",
    "documents = [{'text': \"Yes, even if you don't register, you're still eligible to submit the homeworks.\\nBe aware, however, that there will be deadlines for turning in the final projects. So don't leave everything for the last minute.\",\n",
    "  'section': 'General course-related questions',\n",
    "  'question': 'Course - Can I still join the course after the start date?',\n",
    "  'course': 'data-engineering-zoomcamp'},\n",
    " {'text': 'Yes, we will keep all the materials after the course finishes, so you can follow the course at your own pace after it finishes.\\nYou can also continue looking at the homeworks and continue preparing for the next cohort. I guess you can also start working on your final capstone project.',\n",
    "  'section': 'General course-related questions',\n",
    "  'question': 'Course - Can I follow the course after it finishes?',\n",
    "  'course': 'data-engineering-zoomcamp'},\n",
    " {'text': \"The purpose of this document is to capture frequently asked technical questions\\nThe exact day and hour of the course will be 15th Jan 2024 at 17h00. The course will start with the first  “Office Hours'' live.1\\nSubscribe to course public Google Calendar (it works from Desktop only).\\nRegister before the course starts using this link.\\nJoin the course Telegram channel with announcements.\\nDon’t forget to register in DataTalks.Club's Slack and join the channel.\",\n",
    "  'section': 'General course-related questions',\n",
    "  'question': 'Course - When will the course start?',\n",
    "  'course': 'data-engineering-zoomcamp'},\n",
    " {'text': 'You can start by installing and setting up all the dependencies and requirements:\\nGoogle cloud account\\nGoogle Cloud SDK\\nPython 3 (installed with Anaconda)\\nTerraform\\nGit\\nLook over the prerequisites and syllabus to see if you are comfortable with these subjects.',\n",
    "  'section': 'General course-related questions',\n",
    "  'question': 'Course - What can I do before the course starts?',\n",
    "  'course': 'data-engineering-zoomcamp'},\n",
    " {'text': 'Star the repo! Share it with friends if you find it useful ❣️\\nCreate a PR if you see you can improve the text or the structure of the repository.',\n",
    "  'section': 'General course-related questions',\n",
    "  'question': 'How can we contribute to the course?',\n",
    "  'course': 'data-engineering-zoomcamp'}]\n",
    "```\n"
   ]
  },
  {
   "cell_type": "code",
   "execution_count": 106,
   "id": "6bd1a946-d8aa-417b-9c49-4380a255f06f",
   "metadata": {},
   "outputs": [],
   "source": [
    "documents = [{'text': \"Yes, even if you don't register, you're still eligible to submit the homeworks.\\nBe aware, however, that there will be deadlines for turning in the final projects. So don't leave everything for the last minute.\",\n",
    "  'section': 'General course-related questions',\n",
    "  'question': 'Course - Can I still join the course after the start date?',\n",
    "  'course': 'data-engineering-zoomcamp'},\n",
    " {'text': 'Yes, we will keep all the materials after the course finishes, so you can follow the course at your own pace after it finishes.\\nYou can also continue looking at the homeworks and continue preparing for the next cohort. I guess you can also start working on your final capstone project.',\n",
    "  'section': 'General course-related questions',\n",
    "  'question': 'Course - Can I follow the course after it finishes?',\n",
    "  'course': 'data-engineering-zoomcamp'},\n",
    " {'text': \"The purpose of this document is to capture frequently asked technical questions\\nThe exact day and hour of the course will be 15th Jan 2024 at 17h00. The course will start with the first  “Office Hours'' live.1\\nSubscribe to course public Google Calendar (it works from Desktop only).\\nRegister before the course starts using this link.\\nJoin the course Telegram channel with announcements.\\nDon’t forget to register in DataTalks.Club's Slack and join the channel.\",\n",
    "  'section': 'General course-related questions',\n",
    "  'question': 'Course - When will the course start?',\n",
    "  'course': 'data-engineering-zoomcamp'},\n",
    " {'text': 'You can start by installing and setting up all the dependencies and requirements:\\nGoogle cloud account\\nGoogle Cloud SDK\\nPython 3 (installed with Anaconda)\\nTerraform\\nGit\\nLook over the prerequisites and syllabus to see if you are comfortable with these subjects.',\n",
    "  'section': 'General course-related questions',\n",
    "  'question': 'Course - What can I do before the course starts?',\n",
    "  'course': 'data-engineering-zoomcamp'},\n",
    " {'text': 'Star the repo! Share it with friends if you find it useful ❣️\\nCreate a PR if you see you can improve the text or the structure of the repository.',\n",
    "  'section': 'General course-related questions',\n",
    "  'question': 'How can we contribute to the course?',\n",
    "  'course': 'data-engineering-zoomcamp'}]"
   ]
  },
  {
   "cell_type": "markdown",
   "id": "dfc8d9f6-c880-4a3d-b8f1-0d81eaaa2696",
   "metadata": {},
   "source": [
    "## A3."
   ]
  },
  {
   "cell_type": "code",
   "execution_count": 107,
   "id": "e8639cf9-3ac9-451f-9675-c1991abef4b1",
   "metadata": {},
   "outputs": [],
   "source": [
    "import pandas as pd"
   ]
  },
  {
   "cell_type": "code",
   "execution_count": 108,
   "id": "bb2cc0ae-a666-41f1-900d-cf383ecd7e2c",
   "metadata": {},
   "outputs": [],
   "source": [
    "index = []\n",
    "similarity = []\n",
    "\n",
    "\n",
    "for i, doc in enumerate(documents):\n",
    "    doc['index'] = i\n",
    "    doc['similarity'] = list(model.embed([query]))[0].dot(list(model.embed([doc['text']]))[0])\n",
    "\n",
    "    index.append(i)\n",
    "    similarity.append( list(model.embed([query]))[0].dot(list(model.embed([doc['text']]))[0]) )"
   ]
  },
  {
   "cell_type": "code",
   "execution_count": 109,
   "id": "006715c4-be4a-4100-84d5-5f9eff6d17dd",
   "metadata": {},
   "outputs": [
    {
     "data": {
      "text/html": [
       "<div>\n",
       "<style scoped>\n",
       "    .dataframe tbody tr th:only-of-type {\n",
       "        vertical-align: middle;\n",
       "    }\n",
       "\n",
       "    .dataframe tbody tr th {\n",
       "        vertical-align: top;\n",
       "    }\n",
       "\n",
       "    .dataframe thead th {\n",
       "        text-align: right;\n",
       "    }\n",
       "</style>\n",
       "<table border=\"1\" class=\"dataframe\">\n",
       "  <thead>\n",
       "    <tr style=\"text-align: right;\">\n",
       "      <th></th>\n",
       "      <th>index</th>\n",
       "      <th>similarity</th>\n",
       "    </tr>\n",
       "  </thead>\n",
       "  <tbody>\n",
       "    <tr>\n",
       "      <th>0</th>\n",
       "      <td>0</td>\n",
       "      <td>0.762968</td>\n",
       "    </tr>\n",
       "    <tr>\n",
       "      <th>1</th>\n",
       "      <td>1</td>\n",
       "      <td>0.818238</td>\n",
       "    </tr>\n",
       "    <tr>\n",
       "      <th>2</th>\n",
       "      <td>2</td>\n",
       "      <td>0.808540</td>\n",
       "    </tr>\n",
       "    <tr>\n",
       "      <th>3</th>\n",
       "      <td>3</td>\n",
       "      <td>0.713308</td>\n",
       "    </tr>\n",
       "    <tr>\n",
       "      <th>4</th>\n",
       "      <td>4</td>\n",
       "      <td>0.730450</td>\n",
       "    </tr>\n",
       "  </tbody>\n",
       "</table>\n",
       "</div>"
      ],
      "text/plain": [
       "   index  similarity\n",
       "0      0    0.762968\n",
       "1      1    0.818238\n",
       "2      2    0.808540\n",
       "3      3    0.713308\n",
       "4      4    0.730450"
      ]
     },
     "execution_count": 109,
     "metadata": {},
     "output_type": "execute_result"
    }
   ],
   "source": [
    "pd.DataFrame({\n",
    "    'index': index,\n",
    "    'similarity': similarity\n",
    "})"
   ]
  },
  {
   "cell_type": "markdown",
   "id": "56e3d076-bf5d-4ee7-964d-e346ad8e78e1",
   "metadata": {},
   "source": [
    "## Q4. Ranking by cosine, version two"
   ]
  },
  {
   "cell_type": "markdown",
   "id": "0397d80c-da92-435f-b4c7-cd22ca48e67d",
   "metadata": {},
   "source": [
    "Now let's calculate a new field, which is a concatenation of question and text:\n",
    "\n",
    "```bash full_text = doc['question'] + ' ' + doc['text']``` \n",
    "\n",
    "Embed this field and compute the cosine between it and the query vector. What's the highest scoring document?\n",
    "\n",
    "* 0\n",
    "* 1\n",
    "* 2\n",
    "* 3\n",
    "* 4\n",
    "\n",
    "Is it different from Q3? If yes, why?"
   ]
  },
  {
   "cell_type": "markdown",
   "id": "7bd93088-67ba-4e48-91ca-8db866aa3b86",
   "metadata": {},
   "source": [
    "## A4."
   ]
  },
  {
   "cell_type": "code",
   "execution_count": 110,
   "id": "a2e8a9b1-9bf2-4834-9c5a-a09bb27e28ab",
   "metadata": {},
   "outputs": [],
   "source": [
    "index = []\n",
    "similarity = []\n",
    "\n",
    "\n",
    "for i, doc in enumerate(documents):\n",
    "    doc['index'] = i\n",
    "    doc['similarity'] = list(model.embed([query]))[0].dot(list(model.embed([doc['question'] + ' ' + doc['text']]))[0])\n",
    "\n",
    "    index.append(i)\n",
    "    similarity.append( list(model.embed([query]))[0].dot(list(model.embed([doc['question'] + ' ' + doc['text']]))[0]) )"
   ]
  },
  {
   "cell_type": "code",
   "execution_count": 111,
   "id": "4691f567-6ce0-48be-830c-445da674d138",
   "metadata": {},
   "outputs": [
    {
     "data": {
      "text/html": [
       "<div>\n",
       "<style scoped>\n",
       "    .dataframe tbody tr th:only-of-type {\n",
       "        vertical-align: middle;\n",
       "    }\n",
       "\n",
       "    .dataframe tbody tr th {\n",
       "        vertical-align: top;\n",
       "    }\n",
       "\n",
       "    .dataframe thead th {\n",
       "        text-align: right;\n",
       "    }\n",
       "</style>\n",
       "<table border=\"1\" class=\"dataframe\">\n",
       "  <thead>\n",
       "    <tr style=\"text-align: right;\">\n",
       "      <th></th>\n",
       "      <th>index</th>\n",
       "      <th>similarity</th>\n",
       "    </tr>\n",
       "  </thead>\n",
       "  <tbody>\n",
       "    <tr>\n",
       "      <th>0</th>\n",
       "      <td>0</td>\n",
       "      <td>0.851454</td>\n",
       "    </tr>\n",
       "    <tr>\n",
       "      <th>1</th>\n",
       "      <td>1</td>\n",
       "      <td>0.843659</td>\n",
       "    </tr>\n",
       "    <tr>\n",
       "      <th>2</th>\n",
       "      <td>2</td>\n",
       "      <td>0.840829</td>\n",
       "    </tr>\n",
       "    <tr>\n",
       "      <th>3</th>\n",
       "      <td>3</td>\n",
       "      <td>0.775516</td>\n",
       "    </tr>\n",
       "    <tr>\n",
       "      <th>4</th>\n",
       "      <td>4</td>\n",
       "      <td>0.808601</td>\n",
       "    </tr>\n",
       "  </tbody>\n",
       "</table>\n",
       "</div>"
      ],
      "text/plain": [
       "   index  similarity\n",
       "0      0    0.851454\n",
       "1      1    0.843659\n",
       "2      2    0.840829\n",
       "3      3    0.775516\n",
       "4      4    0.808601"
      ]
     },
     "execution_count": 111,
     "metadata": {},
     "output_type": "execute_result"
    }
   ],
   "source": [
    "pd.DataFrame({\n",
    "    'index': index,\n",
    "    'similarity': similarity\n",
    "})"
   ]
  },
  {
   "cell_type": "markdown",
   "id": "c8713a54-ead4-4007-8293-d5b764c24304",
   "metadata": {},
   "source": [
    "## Q5. Selecting the embedding model\n",
    "Now let's select a smaller embedding model. What's the smallest dimensionality for models in fastembed?\n",
    "\n",
    "* 128\n",
    "* 256\n",
    "* 384\n",
    "* 512\n",
    "\n",
    "One of these models is `BAAI/bge-small-en` . Let's use it."
   ]
  },
  {
   "cell_type": "markdown",
   "id": "5b26e327-e01f-404f-b4ca-158ab2a2409e",
   "metadata": {},
   "source": [
    "## A5."
   ]
  },
  {
   "cell_type": "code",
   "execution_count": 112,
   "id": "6f406695-c91a-45f8-abf9-77d51667fff6",
   "metadata": {},
   "outputs": [],
   "source": [
    "from fastembed import TextEmbedding\n",
    "#TextEmbedding.list_supported_models()"
   ]
  },
  {
   "cell_type": "code",
   "execution_count": 58,
   "id": "c4710e2c-5e28-4968-8494-d568f1a8fc90",
   "metadata": {},
   "outputs": [
    {
     "data": {
      "text/plain": [
       "np.int64(384)"
      ]
     },
     "execution_count": 58,
     "metadata": {},
     "output_type": "execute_result"
    }
   ],
   "source": [
    "model_list = []\n",
    "dim = []\n",
    "\n",
    "\n",
    "for model in TextEmbedding.list_supported_models():\n",
    "    model_list.append(model['model'])\n",
    "    dim.append(model['dim'])\n",
    "\n",
    "pd.DataFrame({\n",
    "    'model': model_list,\n",
    "    'dim': dim\n",
    "})['dim'].min()"
   ]
  },
  {
   "cell_type": "markdown",
   "id": "7bb5a075-c3a7-46d8-95e4-d137a057ab3d",
   "metadata": {},
   "source": [
    "## Q6. Indexing with qdrant (2 points)\n",
    "For the last question, we will use more documents.\n",
    "\n",
    "We will select only FAQ records from our ml zoomcamp:\n",
    "\n",
    "```bash\n",
    "import requests \n",
    "\n",
    "docs_url = 'https://github.com/alexeygrigorev/llm-rag-workshop/raw/main/notebooks/documents.json'\n",
    "docs_response = requests.get(docs_url)\n",
    "documents_raw = docs_response.json()\n",
    "\n",
    "\n",
    "documents = []\n",
    "\n",
    "for course in documents_raw:\n",
    "    course_name = course['course']\n",
    "    if course_name != 'machine-learning-zoomcamp':\n",
    "        continue\n",
    "\n",
    "    for doc in course['documents']:\n",
    "        doc['course'] = course_name\n",
    "        documents.append(doc)\n",
    "```\n",
    "\n",
    "Add them to qdrant using the model form Q5.\n",
    "\n",
    "When adding the data, use both question and answer fields:\n",
    "\n",
    "```bash\n",
    "text = doc['question'] + ' ' + doc['text']\n",
    "```\n",
    "\n",
    "\n",
    "After the data is inserted, use the question from Q1 for querying the collection.\n",
    "\n",
    "What's the highest score in the results? (The score for the first returned record):\n",
    "\n",
    "* 0.97\n",
    "* 0.87\n",
    "* 0.77\n",
    "* 0.67"
   ]
  },
  {
   "cell_type": "markdown",
   "id": "a95986b4-e2c0-4d89-929b-a67ba8106918",
   "metadata": {},
   "source": [
    "#### DOWNLOAD DOCUMENTS"
   ]
  },
  {
   "cell_type": "code",
   "execution_count": 59,
   "id": "b27806e0-4312-49ff-b2f4-992ea7eedac7",
   "metadata": {},
   "outputs": [],
   "source": [
    "import requests \n",
    "\n",
    "docs_url = 'https://github.com/alexeygrigorev/llm-rag-workshop/raw/main/notebooks/documents.json'\n",
    "docs_response = requests.get(docs_url)\n",
    "documents_raw = docs_response.json()\n",
    "\n",
    "\n",
    "documents = []\n",
    "\n",
    "for course in documents_raw:\n",
    "    course_name = course['course']\n",
    "    if course_name != 'machine-learning-zoomcamp':\n",
    "        continue\n",
    "\n",
    "    for doc in course['documents']:\n",
    "        doc['course'] = course_name\n",
    "        documents.append(doc)"
   ]
  },
  {
   "cell_type": "code",
   "execution_count": 61,
   "id": "a4a1f468-a28d-435d-aa12-bd2b081c05a4",
   "metadata": {},
   "outputs": [],
   "source": [
    "model_handle = \"BAAI/bge-small-en\""
   ]
  },
  {
   "cell_type": "code",
   "execution_count": 63,
   "id": "14a8fd05-371f-4458-884e-97d70700edf0",
   "metadata": {},
   "outputs": [],
   "source": [
    "from qdrant_client import QdrantClient, models\n",
    "client = QdrantClient(\"http://qdrant:6333\")"
   ]
  },
  {
   "cell_type": "code",
   "execution_count": 64,
   "id": "e5c990d0-dd05-4c96-b334-7fad9985a18e",
   "metadata": {},
   "outputs": [
    {
     "data": {
      "text/plain": [
       "True"
      ]
     },
     "execution_count": 64,
     "metadata": {},
     "output_type": "execute_result"
    }
   ],
   "source": [
    "# Define the collection name\n",
    "collection_name = \"zoomcamp-hw\"\n",
    "EMBEDDING_DIMENSIONALITY = 384\n",
    "\n",
    "\n",
    "# Create the collection with specified vector parameters\n",
    "client.create_collection(\n",
    "    collection_name=collection_name,\n",
    "    vectors_config=models.VectorParams(\n",
    "        size=EMBEDDING_DIMENSIONALITY,  # Dimensionality of the vectors\n",
    "        distance=models.Distance.COSINE  # Distance metric for similarity search\n",
    "    )\n",
    ")"
   ]
  },
  {
   "cell_type": "code",
   "execution_count": 65,
   "id": "0a444584-6ab7-430c-be08-4eb8551bf5fc",
   "metadata": {},
   "outputs": [],
   "source": [
    "points = []\n",
    "id = 0\n",
    "\n",
    "for course in documents_raw:\n",
    "    for doc in course['documents']:\n",
    "\n",
    "        point = models.PointStruct(\n",
    "            id=id,\n",
    "            vector=models.Document(text=doc['question'] + ' ' + doc['text'], model=model_handle), #embed text locally with \"jinaai/jina-embeddings-v2-small-en\" from FastEmbed\n",
    "            payload={\n",
    "                \"text\": doc['text'],\n",
    "                \"section\": doc['section'],\n",
    "                \"course\": course['course']\n",
    "            } #save all needed metadata fields\n",
    "        )\n",
    "        points.append(point)\n",
    "\n",
    "        id += 1"
   ]
  },
  {
   "cell_type": "code",
   "execution_count": 66,
   "id": "099d1015-7dd9-4061-85bc-356b6f70cadf",
   "metadata": {},
   "outputs": [
    {
     "name": "stderr",
     "output_type": "stream",
     "text": [
      "Fetching 5 files: 100%|██████████████████████████████████████████████████████████████████████████████████████████████████████████████████████| 5/5 [00:04<00:00,  1.04it/s]\n"
     ]
    },
    {
     "data": {
      "text/plain": [
       "UpdateResult(operation_id=0, status=<UpdateStatus.COMPLETED: 'completed'>)"
      ]
     },
     "execution_count": 66,
     "metadata": {},
     "output_type": "execute_result"
    }
   ],
   "source": [
    "client.upsert(\n",
    "    collection_name=collection_name,\n",
    "    points=points\n",
    ")"
   ]
  },
  {
   "cell_type": "code",
   "execution_count": 71,
   "id": "60dda72d-1162-4199-b6c1-37a95380b8c9",
   "metadata": {},
   "outputs": [],
   "source": [
    "def search(query, limit=1):\n",
    "\n",
    "    results = client.query_points(\n",
    "        collection_name=collection_name,\n",
    "        query=models.Document( #embed the query text locally with \"jinaai/jina-embeddings-v2-small-en\"\n",
    "            text=query,\n",
    "            model=model_handle \n",
    "        ),\n",
    "        limit=limit, # top closest matches\n",
    "        with_payload=True #to get metadata in the results\n",
    "    )\n",
    "\n",
    "    return results"
   ]
  },
  {
   "cell_type": "markdown",
   "id": "f78ebd90-9bd2-4d49-b0db-58251cad6849",
   "metadata": {},
   "source": [
    "## Q6."
   ]
  },
  {
   "cell_type": "code",
   "execution_count": 91,
   "id": "b03a4b7b-b7d5-4ecd-bb27-ddc2801efd3c",
   "metadata": {},
   "outputs": [
    {
     "data": {
      "text/plain": [
       "0.8703172"
      ]
     },
     "execution_count": 91,
     "metadata": {},
     "output_type": "execute_result"
    }
   ],
   "source": [
    "search(query).points[0].score"
   ]
  }
 ],
 "metadata": {
  "kernelspec": {
   "display_name": "Python 3 (ipykernel)",
   "language": "python",
   "name": "python3"
  },
  "language_info": {
   "codemirror_mode": {
    "name": "ipython",
    "version": 3
   },
   "file_extension": ".py",
   "mimetype": "text/x-python",
   "name": "python",
   "nbconvert_exporter": "python",
   "pygments_lexer": "ipython3",
   "version": "3.11.13"
  }
 },
 "nbformat": 4,
 "nbformat_minor": 5
}
