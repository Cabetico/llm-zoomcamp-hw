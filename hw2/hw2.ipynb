{
 "cells": [
  {
   "cell_type": "markdown",
   "id": "7d1cf4a9-3aad-4ae8-b687-0be85b5d8049",
   "metadata": {},
   "source": [
    "## Q1. Running Ollama with Docker\n",
    "\n",
    "Let's run ollama with Docker. We will need to execute the same command as in the lectures:\n",
    "\n",
    "```bash\n",
    "docker run -it \\\n",
    "    --rm \\\n",
    "    -v ollama:/root/.ollama \\\n",
    "    -p 11434:11434 \\\n",
    "    --name ollama \\\n",
    "    ollama/ollama\n",
    "What's the version of ollama client?\n",
    "```\n",
    "\n",
    "To find out, enter the container and execute `ollama` with the `-v` flag."
   ]
  },
  {
   "cell_type": "markdown",
   "id": "db415eb6-6f76-4830-a262-5a454b9cd9db",
   "metadata": {},
   "source": [
    "## A1.\n",
    "\n",
    "![image](hw2-images/hw-2-q1.png)"
   ]
  },
  {
   "cell_type": "markdown",
   "id": "bab5a80b-5e07-43d3-b0e3-a91324e931b3",
   "metadata": {},
   "source": [
    "## Q2. Downloading an LLM\n",
    "\n",
    "We will donwload a smaller LLM - gemma:2b.\n",
    "\n",
    "Again let's enter the container and pull the model:\n",
    "```bash\n",
    "ollama pull gemma:2b\n",
    "```\n",
    "In docker, it saved the results into `/root/.ollama`\n",
    "\n",
    "We're interested in the metadata about this model. You can find it in `models/manifests/registry.ollama.ai/library`\n",
    "\n",
    "What's the content of the file related to gemma?"
   ]
  },
  {
   "cell_type": "markdown",
   "id": "a5b2b09f-bb9f-4275-a4a7-8600dbec8434",
   "metadata": {},
   "source": [
    "## A2.\n",
    "\n",
    "![image](hw2-images/hw-2-q2.png) "
   ]
  },
  {
   "cell_type": "markdown",
   "id": "8324e197-7114-43bc-bcbb-612ec7bd90b5",
   "metadata": {},
   "source": [
    "## Q3. Running the LLM\n",
    "Test the following prompt: \"10 * 10\". What's the answer?"
   ]
  },
  {
   "cell_type": "markdown",
   "id": "a95916be-2dad-44bc-9b9f-21237c65dbe1",
   "metadata": {},
   "source": [
    "## A3.\n",
    "\n",
    "![image](hw2-images/hw-2-q3.png) "
   ]
  },
  {
   "cell_type": "markdown",
   "id": "5a64dd8d-010a-469a-bb70-f290dfc95914",
   "metadata": {},
   "source": [
    "## Q4. Donwloading the weights\n",
    "We don't want to pull the weights every time we run a docker container. Let's do it once and have them available every time we start a container.\n",
    "\n",
    "First, we will need to change how we run the container.\n",
    "\n",
    "Instead of mapping the `/root/.ollama` folder to a named volume, let's map it to a local directory:\n",
    "\n",
    "```bash\n",
    "mkdir ollama_files\n",
    "\n",
    "docker run -it \\\n",
    "    --rm \\\n",
    "    -v ./ollama_files:/root/.ollama \\\n",
    "    -p 11434:11434 \\\n",
    "    --name ollama \\\n",
    "    ollama/ollama\n",
    "```\n",
    "\n",
    "Now pull the model:\n",
    "\n",
    "```bash\n",
    "docker exec -it ollama ollama pull gemma:2b \n",
    "```\n",
    "\n",
    "What's the size of the `ollama_files/models` folder?\n",
    "\n",
    "* 0.6G\n",
    "* 1.2G\n",
    "* 1.7G\n",
    "* 2.2G\n",
    "  \n",
    "Hint: on linux, you can use `du -h` for that."
   ]
  },
  {
   "cell_type": "markdown",
   "id": "32956423-724d-4b05-b817-2ef352e1842f",
   "metadata": {},
   "source": [
    "## A4.\n",
    "\n",
    "![image](hw2-images/hw-2-q4.png) "
   ]
  },
  {
   "cell_type": "markdown",
   "id": "30af3230-131e-4ec8-a969-a53ed52afd94",
   "metadata": {},
   "source": [
    "## Q5. Adding the weights\n",
    "Let's now stop the container and add the weights to a new image\n",
    "\n",
    "For that, let's create a Dockerfile:\n",
    "\n",
    "```bash\n",
    "FROM ollama/ollama\n",
    "\n",
    "COPY ...\n",
    "What do you put after COPY?\n",
    "```"
   ]
  },
  {
   "cell_type": "markdown",
   "id": "d24961ad-32df-45e0-9a20-fa94e3db7ea9",
   "metadata": {},
   "source": [
    "## A5.\n",
    "\n",
    "To copy ollama_files from the local directory into the container directory\n",
    "\n",
    "```bash\n",
    "FROM ollama/ollama\n",
    "\n",
    "COPY ./ollama_files ollama_files\n",
    "```\n",
    "\n"
   ]
  },
  {
   "cell_type": "markdown",
   "id": "9d9f8e5c-1035-42bc-b519-67e3fc94af2f",
   "metadata": {},
   "source": [
    "## Q6. Serving it\n",
    "Let's build it:\n",
    "\n",
    "```bash\n",
    "docker build -t ollama-gemma2b .\n",
    "```\n",
    "\n",
    "And run it:\n",
    "\n",
    "```bash\n",
    "docker run -it --rm -p 11434:11434 ollama-gemma2b\n",
    "```\n",
    "\n",
    "We can connect to it using the OpenAI client\n",
    "\n",
    "Let's test it with the following prompt:\n",
    "\n",
    "```bash\n",
    "prompt = \"What's the formula for energy?\"\n",
    "```\n",
    "\n",
    "Also, to make results reproducible, set the `temperature` parameter to 0:\n",
    "\n",
    "```bash\n",
    "response = client.chat.completions.create(\n",
    "    #...\n",
    "    temperature=0.0\n",
    ")\n",
    "```\n",
    "\n",
    "How many completion tokens did you get in response?\n",
    "\n",
    "* 304\n",
    "* 604\n",
    "* 904\n",
    "* 1204"
   ]
  },
  {
   "cell_type": "markdown",
   "id": "7d54278c-1c2b-430c-8ea4-46b79083b90f",
   "metadata": {},
   "source": [
    "## A6."
   ]
  },
  {
   "cell_type": "code",
   "execution_count": 1,
   "id": "0f98761a-9c11-4235-a1e9-c0ade454c006",
   "metadata": {},
   "outputs": [],
   "source": [
    "from openai import OpenAI\n",
    "\n",
    "client = OpenAI(\n",
    "    base_url='http://localhost:11434/v1/',\n",
    "    api_key='ollama',\n",
    ")\n",
    "\n",
    "def llm(prompt):\n",
    "    response = client.chat.completions.create(\n",
    "        model='gemma:2b',\n",
    "        messages=[{\"role\": \"user\", \"content\": prompt}],\n",
    "        temperature=0.0  \n",
    "    )\n",
    "    \n",
    "    return response.choices[0].message.content\n",
    "\n",
    "result = llm(\"What's the formula for energy?\")"
   ]
  },
  {
   "cell_type": "code",
   "execution_count": 2,
   "id": "2e7c7814-2967-4eb3-b0c2-2ec87f8d2d2e",
   "metadata": {},
   "outputs": [
    {
     "data": {
      "text/plain": [
       "\"Sure, here's the formula for energy:\\n\\n**E = K + U**\\n\\nWhere:\\n\\n* **E** is the energy in joules (J)\\n* **K** is the kinetic energy in joules (J)\\n* **U** is the potential energy in joules (J)\\n\\n**Kinetic energy (K)** is the energy an object possesses when it moves or is in motion. It is calculated as half the product of an object's mass (m) and its velocity (v) squared:\\n\\n**K = 1/2mv^2**\\n\\n**Potential energy (U)** is the energy an object possesses due to its position or configuration. It is calculated as the product of an object's mass, gravitational constant (g), and height or position above a reference point.\\n\\n**U = mgh**\\n\\nWhere:\\n\\n* **m** is the mass in kilograms (kg)\\n* **g** is the gravitational constant (9.8 m/s^2)\\n* **h** is the height or position in meters (m)\\n\\nThe formula shows that energy can be expressed as the sum of kinetic and potential energy. The kinetic energy is a measure of the object's ability to do work, while the potential energy is a measure of the object's ability to do work against a force.\""
      ]
     },
     "execution_count": 2,
     "metadata": {},
     "output_type": "execute_result"
    }
   ],
   "source": [
    "result"
   ]
  },
  {
   "cell_type": "code",
   "execution_count": 8,
   "id": "2054a76e-70f6-40dc-8325-fcb8d5afa710",
   "metadata": {},
   "outputs": [],
   "source": [
    "from transformers import AutoTokenizer, AutoModelForCausalLM\n",
    "\n",
    "tokenizer = AutoTokenizer.from_pretrained(\"google/gemma-2b\")"
   ]
  },
  {
   "cell_type": "code",
   "execution_count": 15,
   "id": "47b3bb43-3f88-4d17-b94d-3605e788b77e",
   "metadata": {},
   "outputs": [],
   "source": [
    "input_ids = tokenizer(result)"
   ]
  },
  {
   "cell_type": "code",
   "execution_count": 18,
   "id": "42ecd8b4-ca66-496f-bec9-37427d3f329f",
   "metadata": {},
   "outputs": [
    {
     "data": {
      "text/plain": [
       "281"
      ]
     },
     "execution_count": 18,
     "metadata": {},
     "output_type": "execute_result"
    }
   ],
   "source": [
    "len(input_ids['input_ids'])"
   ]
  }
 ],
 "metadata": {
  "kernelspec": {
   "display_name": "Python 3 (ipykernel)",
   "language": "python",
   "name": "python3"
  },
  "language_info": {
   "codemirror_mode": {
    "name": "ipython",
    "version": 3
   },
   "file_extension": ".py",
   "mimetype": "text/x-python",
   "name": "python",
   "nbconvert_exporter": "python",
   "pygments_lexer": "ipython3",
   "version": "3.10.14"
  }
 },
 "nbformat": 4,
 "nbformat_minor": 5
}
