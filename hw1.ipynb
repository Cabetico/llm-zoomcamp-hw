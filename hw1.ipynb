{
 "cells": [
  {
   "cell_type": "markdown",
   "id": "586499e3-226a-4756-9a31-349b3055ce8f",
   "metadata": {},
   "source": [
    "## QUESTION 1\n",
    "What's the version.build_hash value?"
   ]
  },
  {
   "cell_type": "code",
   "execution_count": 1,
   "id": "eb06ed27-f031-4249-8d16-c7ac454e4557",
   "metadata": {},
   "outputs": [
    {
     "name": "stdout",
     "output_type": "stream",
     "text": [
      "{\n",
      "  \"name\" : \"0e0cdb6df403\",\n",
      "  \"cluster_name\" : \"docker-cluster\",\n",
      "  \"cluster_uuid\" : \"5llfMMuDRQ6a4iZSALtgMw\",\n",
      "  \"version\" : {\n",
      "    \"number\" : \"8.17.6\",\n",
      "    \"build_flavor\" : \"default\",\n",
      "    \"build_type\" : \"docker\",\n",
      "    \"build_hash\" : \"dbcbbbd0bc4924cfeb28929dc05d82d662c527b7\",\n",
      "    \"build_date\" : \"2025-04-30T14:07:12.231372970Z\",\n",
      "    \"build_snapshot\" : false,\n",
      "    \"lucene_version\" : \"9.12.0\",\n",
      "    \"minimum_wire_compatibility_version\" : \"7.17.0\",\n",
      "    \"minimum_index_compatibility_version\" : \"7.0.0\"\n",
      "  },\n",
      "  \"tagline\" : \"You Know, for Search\"\n",
      "}\n"
     ]
    }
   ],
   "source": [
    "!curl http://elasticsearch:9200"
   ]
  },
  {
   "cell_type": "markdown",
   "id": "378370b3-587a-4ad7-881a-5079e258bde9",
   "metadata": {},
   "source": [
    "## A1\n",
    "\n",
    "`\"build_hash\" : \"dbcbbbd0bc4924cfeb28929dc05d82d662c527b7\"`"
   ]
  },
  {
   "cell_type": "markdown",
   "id": "8958f43d-8c27-44a3-a304-881e8816be7a",
   "metadata": {},
   "source": [
    "## Getting the Data"
   ]
  },
  {
   "cell_type": "code",
   "execution_count": 1,
   "id": "e0c5c4dc-1776-4de9-800d-e34e93b7dca5",
   "metadata": {},
   "outputs": [],
   "source": [
    "import requests \n",
    "\n",
    "docs_url = 'https://github.com/DataTalksClub/llm-zoomcamp/blob/main/01-intro/documents.json?raw=1'\n",
    "docs_response = requests.get(docs_url)\n",
    "documents_raw = docs_response.json()\n",
    "\n",
    "documents = []\n",
    "\n",
    "for course in documents_raw:\n",
    "    course_name = course['course']\n",
    "\n",
    "    for doc in course['documents']:\n",
    "        doc['course'] = course_name\n",
    "        documents.append(doc)"
   ]
  },
  {
   "cell_type": "markdown",
   "id": "63742a73-46ee-439f-a723-04bf1bde7239",
   "metadata": {},
   "source": [
    "## Q2. Indexing the data\n",
    "\n",
    "Index the data in the same way as was shown in the course videos. Make the course field a keyword and the rest should be text.\n",
    "\n",
    "Don't forget to install the ElasticSearch client for Python:\n",
    "\n",
    "``` \n",
    "pip install elasticsearch\n",
    "``` \n",
    "\n",
    "Which function do you use for adding your data to elastic?\n",
    "\n",
    "* `insert`\n",
    "* `index`\n",
    "* `put`\n",
    "* `add`"
   ]
  },
  {
   "cell_type": "markdown",
   "id": "c4cf332f-b843-4d80-ba98-75cde820084e",
   "metadata": {},
   "source": [
    "## A2\n",
    "`index`"
   ]
  },
  {
   "cell_type": "markdown",
   "id": "e168412c-0f2d-4a66-bc46-26d04fd8dcbd",
   "metadata": {},
   "source": [
    "## Q3. Searching\n",
    "\n",
    "Now let's search in our index.\n",
    "\n",
    "We will execute a query \"How do execute a command on a Kubernetes pod?\".\n",
    "\n",
    "Use only `question` and `text` fields and give `question` a boost of 4, and use `\"type\": \"best_fields\"`.\n",
    "\n",
    "What's the score for the top ranking result?\n",
    "\n",
    "* 84.50\n",
    "* 64.50\n",
    "* 44.50\n",
    "* 24.50\n",
    "Look at the `_score` field."
   ]
  },
  {
   "cell_type": "code",
   "execution_count": 2,
   "id": "7b7f9dff-97b9-4b19-b526-2aa906e29ca5",
   "metadata": {},
   "outputs": [],
   "source": [
    "from elasticsearch import Elasticsearch"
   ]
  },
  {
   "cell_type": "code",
   "execution_count": 3,
   "id": "0a663da9-85aa-44e3-8df3-7aff96c5e709",
   "metadata": {},
   "outputs": [],
   "source": [
    "es_client = Elasticsearch('http://elasticsearch:9200')"
   ]
  },
  {
   "cell_type": "code",
   "execution_count": 4,
   "id": "4aa007bd-84a2-4421-8d1f-675010e0c028",
   "metadata": {},
   "outputs": [
    {
     "data": {
      "text/plain": [
       "ObjectApiResponse({'name': '0e0cdb6df403', 'cluster_name': 'docker-cluster', 'cluster_uuid': '5llfMMuDRQ6a4iZSALtgMw', 'version': {'number': '8.17.6', 'build_flavor': 'default', 'build_type': 'docker', 'build_hash': 'dbcbbbd0bc4924cfeb28929dc05d82d662c527b7', 'build_date': '2025-04-30T14:07:12.231372970Z', 'build_snapshot': False, 'lucene_version': '9.12.0', 'minimum_wire_compatibility_version': '7.17.0', 'minimum_index_compatibility_version': '7.0.0'}, 'tagline': 'You Know, for Search'})"
      ]
     },
     "execution_count": 4,
     "metadata": {},
     "output_type": "execute_result"
    }
   ],
   "source": [
    "es_client.info()"
   ]
  },
  {
   "cell_type": "code",
   "execution_count": 5,
   "id": "4af5469d-c582-47da-8515-a7e2e26fd46d",
   "metadata": {},
   "outputs": [
    {
     "data": {
      "text/plain": [
       "ObjectApiResponse({'acknowledged': True, 'shards_acknowledged': True, 'index': 'hw-course-questions'})"
      ]
     },
     "execution_count": 5,
     "metadata": {},
     "output_type": "execute_result"
    }
   ],
   "source": [
    "index_settings = {\n",
    "    \"settings\": {\n",
    "        \"number_of_shards\": 1,\n",
    "        \"number_of_replicas\": 0\n",
    "    },\n",
    "    \"mappings\": {\n",
    "        \"properties\": {\n",
    "            \"text\": {\"type\": \"text\"},\n",
    "            \"section\": {\"type\": \"text\"},\n",
    "            \"question\": {\"type\": \"text\"},\n",
    "            \"course\": {\"type\": \"keyword\"} \n",
    "        }\n",
    "    }\n",
    "}\n",
    "\n",
    "index_name = 'hw-course-questions'\n",
    "\n",
    "es_client.indices.create(index=index_name, body=index_settings)"
   ]
  },
  {
   "cell_type": "code",
   "execution_count": 7,
   "id": "43e79b20-e180-4e38-8996-952cc7f2bb42",
   "metadata": {},
   "outputs": [
    {
     "name": "stderr",
     "output_type": "stream",
     "text": [
      "/usr/local/lib/python3.11/site-packages/tqdm/auto.py:21: TqdmWarning: IProgress not found. Please update jupyter and ipywidgets. See https://ipywidgets.readthedocs.io/en/stable/user_install.html\n",
      "  from .autonotebook import tqdm as notebook_tqdm\n"
     ]
    }
   ],
   "source": [
    "from tqdm.auto import tqdm"
   ]
  },
  {
   "cell_type": "code",
   "execution_count": 8,
   "id": "b36474da-27fa-4c60-9b49-049ea28c2f06",
   "metadata": {},
   "outputs": [
    {
     "name": "stderr",
     "output_type": "stream",
     "text": [
      "100%|██████████| 948/948 [00:05<00:00, 176.72it/s]\n"
     ]
    }
   ],
   "source": [
    "for doc in tqdm(documents): \n",
    "    es_client.index(index=index_name, document=doc)"
   ]
  },
  {
   "cell_type": "code",
   "execution_count": 23,
   "id": "0d35925a-468d-473a-9a8d-d27ea2b94fd9",
   "metadata": {},
   "outputs": [],
   "source": [
    "query = \"How do execute a command on a Kubernetes pod?\""
   ]
  },
  {
   "cell_type": "code",
   "execution_count": 20,
   "id": "70fdd235-b7eb-4d17-9220-5adcc050e9e5",
   "metadata": {},
   "outputs": [],
   "source": [
    "search_query = {\n",
    "    \"size\": 5,\n",
    "    \"query\": {\n",
    "        \"bool\": {\n",
    "            \"must\": {\n",
    "                \"multi_match\": {\n",
    "                    \"query\": query,\n",
    "                    \"fields\": [\"question^4\", \"text\"],\n",
    "                    \"type\": \"best_fields\"\n",
    "                }\n",
    "            }\n",
    "}}}"
   ]
  },
  {
   "cell_type": "code",
   "execution_count": 21,
   "id": "0c621efa-6027-4646-ad60-b614ca49d8ee",
   "metadata": {},
   "outputs": [],
   "source": [
    "response = es_client.search(index=index_name, body=search_query)"
   ]
  },
  {
   "cell_type": "code",
   "execution_count": 22,
   "id": "a7029cf2-0f38-4448-8110-d5194f4f554c",
   "metadata": {},
   "outputs": [
    {
     "data": {
      "text/plain": [
       "{'total': {'value': 739, 'relation': 'eq'},\n",
       " 'max_score': 44.50556,\n",
       " 'hits': [{'_index': 'hw-course-questions',\n",
       "   '_id': 'VNr6TZcBE5PBDb_RME_d',\n",
       "   '_score': 44.50556,\n",
       "   '_source': {'text': 'Launch the container image in interactive mode and overriding the entrypoint, so that it starts a bash command.\\ndocker run -it --entrypoint bash <image>\\nIf the container is already running, execute a command in the specific container:\\ndocker ps (find the container-id)\\ndocker exec -it <container-id> bash\\n(Marcos MJD)',\n",
       "    'section': '5. Deploying Machine Learning Models',\n",
       "    'question': 'How do I debug a docker container?',\n",
       "    'course': 'machine-learning-zoomcamp'}},\n",
       "  {'_index': 'hw-course-questions',\n",
       "   '_id': '49r6TZcBE5PBDb_RM093',\n",
       "   '_score': 35.433445,\n",
       "   '_source': {'text': 'Deploy and Access the Kubernetes Dashboard\\nLuke',\n",
       "    'section': '10. Kubernetes and TensorFlow Serving',\n",
       "    'question': 'Kubernetes-dashboard',\n",
       "    'course': 'machine-learning-zoomcamp'}},\n",
       "  {'_index': 'hw-course-questions',\n",
       "   '_id': 'dNr6TZcBE5PBDb_RMU9w',\n",
       "   '_score': 33.70974,\n",
       "   '_source': {'text': 'You can copy files from your local machine into a Docker container using the docker cp command. Here\\'s how to do it:\\nIn the Dockerfile, you can provide the folder containing the files that you want to copy over. The basic syntax is as follows:\\nCOPY [\"src/predict.py\", \"models/xgb_model.bin\", \"./\"]\\t\\t\\t\\t\\t\\t\\t\\t\\t\\t\\tGopakumar Gopinathan',\n",
       "    'section': '5. Deploying Machine Learning Models',\n",
       "    'question': 'How do I copy files from a different folder into docker container’s working directory?',\n",
       "    'course': 'machine-learning-zoomcamp'}},\n",
       "  {'_index': 'hw-course-questions',\n",
       "   '_id': 'Y9r6TZcBE5PBDb_RMU8j',\n",
       "   '_score': 33.2635,\n",
       "   '_source': {'text': 'Problem description:\\nI started a web-server in terminal (command window, powershell, etc.). How can I run another python script, which makes a request to this server?\\nSolution description:\\nJust open another terminal (command window, powershell, etc.) and run a python script.\\nAlena Kniazeva',\n",
       "    'section': '5. Deploying Machine Learning Models',\n",
       "    'question': 'How to run a script while a web-server is working?',\n",
       "    'course': 'machine-learning-zoomcamp'}},\n",
       "  {'_index': 'hw-course-questions',\n",
       "   '_id': 'Ntr6TZcBE5PBDb_RME9H',\n",
       "   '_score': 32.589073,\n",
       "   '_source': {'text': \"Matplotlib has a cool method to annotate where you could provide an X,Y point and annotate with an arrow and text. For example this will show an arrow pointing to the x,y point optimal threshold.\\nplt.annotate(f'Optimal Threshold: {optimal_threshold:.2f}\\\\nOptimal F1 Score: {optimal_f1_score:.2f}',\\nxy=(optimal_threshold, optimal_f1_score),\\nxytext=(0.3, 0.5),\\ntextcoords='axes fraction',\\narrowprops=dict(facecolor='black', shrink=0.05))\\nQuinn Avila\",\n",
       "    'section': '4. Evaluation Metrics for Classification',\n",
       "    'question': 'How can I annotate a graph?',\n",
       "    'course': 'machine-learning-zoomcamp'}}]}"
      ]
     },
     "execution_count": 22,
     "metadata": {},
     "output_type": "execute_result"
    }
   ],
   "source": [
    "response['hits']"
   ]
  },
  {
   "cell_type": "markdown",
   "id": "319653bf-41df-44d4-a732-5ce9e6fd35bd",
   "metadata": {},
   "source": [
    "## A3. Searching\n",
    "* `44.50`"
   ]
  },
  {
   "cell_type": "markdown",
   "id": "eae7bd7b-aaff-4a98-9fb1-73615ffc7e50",
   "metadata": {},
   "source": [
    "## Q4. Filtering\n",
    "\n",
    "Now ask a different question: \"How do copy a file to a Docker container?\".\n",
    "\n",
    "This time we are only interested in questions from `machine-learning-zoomcamp`.\n",
    "\n",
    "Return 3 results. What's the 3rd question returned by the search engine?\n",
    "\n",
    "*  How do I debug a docker container?\n",
    "* How do I copy files from a different folder into docker container’s working directory?\n",
    "* How do Lambda container images work?\n",
    "* How can I annotate a graph?"
   ]
  },
  {
   "cell_type": "code",
   "execution_count": 27,
   "id": "e3a77540-229c-45cb-9821-815b0cf16bff",
   "metadata": {},
   "outputs": [],
   "source": [
    "query = \"How do copy a file to a Docker container?\"\n",
    "\n",
    "search_query = {\n",
    "    \"size\": 3,\n",
    "    \"query\": {\n",
    "        \"bool\": {\n",
    "            \"must\": {\n",
    "                \"multi_match\": {\n",
    "                    \"query\": query,\n",
    "                    \"fields\": [\"question^4\", \"text\"],\n",
    "                    \"type\": \"best_fields\"\n",
    "                }\n",
    "            },\n",
    "            \"filter\": {\n",
    "                \"term\": {\n",
    "                    \"course\": \"machine-learning-zoomcamp\"\n",
    "                }\n",
    "            }\n",
    "        }\n",
    "    }\n",
    "    }"
   ]
  },
  {
   "cell_type": "code",
   "execution_count": 28,
   "id": "8c5405c2-84f0-458c-a9c8-7d7dccdc5dec",
   "metadata": {},
   "outputs": [],
   "source": [
    "response = es_client.search(index=index_name, body=search_query)"
   ]
  },
  {
   "cell_type": "code",
   "execution_count": 29,
   "id": "2f4f57bf-9bda-484b-95c0-a657b4e49836",
   "metadata": {},
   "outputs": [
    {
     "data": {
      "text/plain": [
       "{'total': {'value': 340, 'relation': 'eq'},\n",
       " 'max_score': 73.38676,\n",
       " 'hits': [{'_index': 'hw-course-questions',\n",
       "   '_id': 'VNr6TZcBE5PBDb_RME_d',\n",
       "   '_score': 73.38676,\n",
       "   '_source': {'text': 'Launch the container image in interactive mode and overriding the entrypoint, so that it starts a bash command.\\ndocker run -it --entrypoint bash <image>\\nIf the container is already running, execute a command in the specific container:\\ndocker ps (find the container-id)\\ndocker exec -it <container-id> bash\\n(Marcos MJD)',\n",
       "    'section': '5. Deploying Machine Learning Models',\n",
       "    'question': 'How do I debug a docker container?',\n",
       "    'course': 'machine-learning-zoomcamp'}},\n",
       "  {'_index': 'hw-course-questions',\n",
       "   '_id': 'c9r6TZcBE5PBDb_RMU9r',\n",
       "   '_score': 66.688705,\n",
       "   '_source': {'text': \"You can copy files from your local machine into a Docker container using the docker cp command. Here's how to do it:\\nTo copy a file or directory from your local machine into a running Docker container, you can use the `docker cp command`. The basic syntax is as follows:\\ndocker cp /path/to/local/file_or_directory container_id:/path/in/container\\nHrithik Kumar Advani\",\n",
       "    'section': '5. Deploying Machine Learning Models',\n",
       "    'question': 'How do I copy files from my local machine to docker container?',\n",
       "    'course': 'machine-learning-zoomcamp'}},\n",
       "  {'_index': 'hw-course-questions',\n",
       "   '_id': 'dNr6TZcBE5PBDb_RMU9w',\n",
       "   '_score': 59.812744,\n",
       "   '_source': {'text': 'You can copy files from your local machine into a Docker container using the docker cp command. Here\\'s how to do it:\\nIn the Dockerfile, you can provide the folder containing the files that you want to copy over. The basic syntax is as follows:\\nCOPY [\"src/predict.py\", \"models/xgb_model.bin\", \"./\"]\\t\\t\\t\\t\\t\\t\\t\\t\\t\\t\\tGopakumar Gopinathan',\n",
       "    'section': '5. Deploying Machine Learning Models',\n",
       "    'question': 'How do I copy files from a different folder into docker container’s working directory?',\n",
       "    'course': 'machine-learning-zoomcamp'}}]}"
      ]
     },
     "execution_count": 29,
     "metadata": {},
     "output_type": "execute_result"
    }
   ],
   "source": [
    "response['hits']"
   ]
  },
  {
   "cell_type": "markdown",
   "id": "d6f55332-9181-46dd-87bb-ae2481508ce4",
   "metadata": {},
   "source": [
    "## A4\n",
    "* How do I copy files from a different folder into docker container’s working directory?"
   ]
  },
  {
   "cell_type": "markdown",
   "id": "c046ca4c-5268-4957-81ca-a7dc600b1497",
   "metadata": {},
   "source": [
    "## Q5. Building a prompt\n",
    "\n",
    "\n",
    "Now we're ready to build a prompt to send to an LLM.\n",
    "\n",
    "Take the records returned from Elasticsearch in Q4 and use this template to build the context. Separate context entries by two linebreaks (`\\n\\n`)\n",
    "\n",
    "``` \n",
    "context_template = \"\"\"\n",
    "Q: {question}\n",
    "A: {text}\n",
    "\"\"\".strip()\n",
    "```\n",
    "\n",
    "Now use the context you just created along with the \"How do I execute a command in a running docker container?\" question to construct a prompt using the template below:\n",
    "\n",
    "```\n",
    "prompt_template = \"\"\"\n",
    "You're a course teaching assistant. Answer the QUESTION based on the CONTEXT from the FAQ database.\n",
    "Use only the facts from the CONTEXT when answering the QUESTION.\n",
    "\n",
    "QUESTION: {question}\n",
    "\n",
    "CONTEXT:\n",
    "{context}\n",
    "\"\"\".strip()\n",
    "```\n",
    "\n",
    "What's the length of the resulting prompt? (use the `len` function)\n",
    "\n",
    "* 946\n",
    "* 1446\n",
    "* 1946\n",
    "* 2446"
   ]
  },
  {
   "cell_type": "code",
   "execution_count": 85,
   "id": "dd1c4677-d8d2-4f61-9dce-f6755c47564d",
   "metadata": {},
   "outputs": [],
   "source": [
    "response = es_client.search(index=index_name, body=search_query)\n",
    "\n",
    "result_docs = []\n",
    "\n",
    "for hit in response['hits']['hits']:\n",
    "        result_docs.append(hit['_source'])\n",
    "\n",
    "prompt_template = \"\"\"\n",
    "    You're a course teaching assistant. Answer the QUESTION based on the CONTEXT from the FAQ database.\n",
    "    Use only the facts from the CONTEXT when answering the QUESTION.\n",
    "\n",
    "    QUESTION: {question}\n",
    "\n",
    "    CONTEXT: \n",
    "    {context}\n",
    "    \"\"\".strip()\n",
    "\n",
    "context_template = \"\"\"\n",
    "Q: {question}\n",
    "A: {text}\n",
    "\"\"\".strip()\n",
    "\n",
    "\n",
    "for doc in result_docs:\n",
    "        context = context + f\"section: {doc['section']}\\nquestion: {doc['question']}\\nanswer: {doc['text']}\\n\\n\"\n",
    "    \n",
    "prompt = prompt_template.format(question=query, context=context).strip()"
   ]
  },
  {
   "cell_type": "code",
   "execution_count": 86,
   "id": "ae4d9319-7e52-47d6-919c-d9a48fb3ab24",
   "metadata": {},
   "outputs": [
    {
     "name": "stdout",
     "output_type": "stream",
     "text": [
      "You're a course teaching assistant. Answer the QUESTION based on the CONTEXT from the FAQ database.\n",
      "    Use only the facts from the CONTEXT when answering the QUESTION.\n",
      "\n",
      "    QUESTION: How do copy a file to a Docker container?\n",
      "\n",
      "    CONTEXT: \n",
      "    section: 5. Deploying Machine Learning Models\n",
      "question: How do I debug a docker container?\n",
      "answer: Launch the container image in interactive mode and overriding the entrypoint, so that it starts a bash command.\n",
      "docker run -it --entrypoint bash <image>\n",
      "If the container is already running, execute a command in the specific container:\n",
      "docker ps (find the container-id)\n",
      "docker exec -it <container-id> bash\n",
      "(Marcos MJD)\n",
      "\n",
      "section: 5. Deploying Machine Learning Models\n",
      "question: How do I copy files from my local machine to docker container?\n",
      "answer: You can copy files from your local machine into a Docker container using the docker cp command. Here's how to do it:\n",
      "To copy a file or directory from your local machine into a running Docker container, you can use the `docker cp command`. The basic syntax is as follows:\n",
      "docker cp /path/to/local/file_or_directory container_id:/path/in/container\n",
      "Hrithik Kumar Advani\n",
      "\n",
      "section: 5. Deploying Machine Learning Models\n",
      "question: How do I copy files from a different folder into docker container’s working directory?\n",
      "answer: You can copy files from your local machine into a Docker container using the docker cp command. Here's how to do it:\n",
      "In the Dockerfile, you can provide the folder containing the files that you want to copy over. The basic syntax is as follows:\n",
      "COPY [\"src/predict.py\", \"models/xgb_model.bin\", \"./\"]\t\t\t\t\t\t\t\t\t\t\tGopakumar Gopinathan\n",
      "\n",
      "section: 5. Deploying Machine Learning Models\n",
      "question: How do I debug a docker container?\n",
      "answer: Launch the container image in interactive mode and overriding the entrypoint, so that it starts a bash command.\n",
      "docker run -it --entrypoint bash <image>\n",
      "If the container is already running, execute a command in the specific container:\n",
      "docker ps (find the container-id)\n",
      "docker exec -it <container-id> bash\n",
      "(Marcos MJD)\n",
      "\n",
      "section: 5. Deploying Machine Learning Models\n",
      "question: How do I copy files from my local machine to docker container?\n",
      "answer: You can copy files from your local machine into a Docker container using the docker cp command. Here's how to do it:\n",
      "To copy a file or directory from your local machine into a running Docker container, you can use the `docker cp command`. The basic syntax is as follows:\n",
      "docker cp /path/to/local/file_or_directory container_id:/path/in/container\n",
      "Hrithik Kumar Advani\n",
      "\n",
      "section: 5. Deploying Machine Learning Models\n",
      "question: How do I copy files from a different folder into docker container’s working directory?\n",
      "answer: You can copy files from your local machine into a Docker container using the docker cp command. Here's how to do it:\n",
      "In the Dockerfile, you can provide the folder containing the files that you want to copy over. The basic syntax is as follows:\n",
      "COPY [\"src/predict.py\", \"models/xgb_model.bin\", \"./\"]\t\t\t\t\t\t\t\t\t\t\tGopakumar Gopinathan\n",
      "\n",
      "section: 5. Deploying Machine Learning Models\n",
      "question: How do I debug a docker container?\n",
      "answer: Launch the container image in interactive mode and overriding the entrypoint, so that it starts a bash command.\n",
      "docker run -it --entrypoint bash <image>\n",
      "If the container is already running, execute a command in the specific container:\n",
      "docker ps (find the container-id)\n",
      "docker exec -it <container-id> bash\n",
      "(Marcos MJD)\n",
      "\n",
      "section: 5. Deploying Machine Learning Models\n",
      "question: How do I copy files from my local machine to docker container?\n",
      "answer: You can copy files from your local machine into a Docker container using the docker cp command. Here's how to do it:\n",
      "To copy a file or directory from your local machine into a running Docker container, you can use the `docker cp command`. The basic syntax is as follows:\n",
      "docker cp /path/to/local/file_or_directory container_id:/path/in/container\n",
      "Hrithik Kumar Advani\n",
      "\n",
      "section: 5. Deploying Machine Learning Models\n",
      "question: How do I copy files from a different folder into docker container’s working directory?\n",
      "answer: You can copy files from your local machine into a Docker container using the docker cp command. Here's how to do it:\n",
      "In the Dockerfile, you can provide the folder containing the files that you want to copy over. The basic syntax is as follows:\n",
      "COPY [\"src/predict.py\", \"models/xgb_model.bin\", \"./\"]\t\t\t\t\t\t\t\t\t\t\tGopakumar Gopinathan\n"
     ]
    }
   ],
   "source": [
    "print(prompt)"
   ]
  },
  {
   "cell_type": "code",
   "execution_count": 87,
   "id": "4d6a1a16-0c59-4d9c-b342-2048bb44f3ed",
   "metadata": {},
   "outputs": [
    {
     "data": {
      "text/plain": [
       "4425"
      ]
     },
     "execution_count": 87,
     "metadata": {},
     "output_type": "execute_result"
    }
   ],
   "source": [
    "len(prompt)"
   ]
  },
  {
   "cell_type": "markdown",
   "id": "3ec7155a-8e70-4406-883c-67c51eb25658",
   "metadata": {},
   "source": [
    "## Q6. Tokens\n",
    "\n",
    "When we use the OpenAI Platform, we're charged by the number of tokens we send in our prompt and receive in the response.\n",
    "\n",
    "The OpenAI python package uses `tiktoken` for tokenization:\n",
    "\n",
    "```\n",
    "pip install tiktoken\n",
    "```\n",
    "\n",
    "Let's calculate the number of tokens in our query:\n",
    "\n",
    "```\n",
    "encoding = tiktoken.encoding_for_model(\"gpt-4o\")\n",
    "```\n",
    "\n",
    "Use the `encode` function. How many tokens does our prompt have?\n",
    "\n",
    "* 120\n",
    "* 220\n",
    "* 320\n",
    "* 420\n",
    "  \n",
    "Note: to decode back a token into a word, you can use the decode_single_token_bytes function:\n",
    "\n",
    "```\n",
    "encoding.decode_single_token_bytes(63842)\n",
    "```"
   ]
  },
  {
   "cell_type": "code",
   "execution_count": 63,
   "id": "5115415b-b5df-4188-a131-fbac84775bfb",
   "metadata": {},
   "outputs": [
    {
     "name": "stdout",
     "output_type": "stream",
     "text": [
      "Collecting tiktoken\n",
      "  Downloading tiktoken-0.9.0-cp311-cp311-manylinux_2_17_x86_64.manylinux2014_x86_64.whl.metadata (6.7 kB)\n",
      "Collecting regex>=2022.1.18 (from tiktoken)\n",
      "  Downloading regex-2024.11.6-cp311-cp311-manylinux_2_17_x86_64.manylinux2014_x86_64.whl.metadata (40 kB)\n",
      "\u001b[2K     \u001b[90m━━━━━━━━━━━━━━━━━━━━━━━━━━━━━━━━━━━━━━━\u001b[0m \u001b[32m40.5/40.5 kB\u001b[0m \u001b[31m455.3 kB/s\u001b[0m eta \u001b[36m0:00:00\u001b[0ma \u001b[36m0:00:01\u001b[0m\n",
      "\u001b[?25hRequirement already satisfied: requests>=2.26.0 in /usr/local/lib/python3.11/site-packages (from tiktoken) (2.32.3)\n",
      "Requirement already satisfied: charset-normalizer<4,>=2 in /usr/local/lib/python3.11/site-packages (from requests>=2.26.0->tiktoken) (3.4.2)\n",
      "Requirement already satisfied: idna<4,>=2.5 in /usr/local/lib/python3.11/site-packages (from requests>=2.26.0->tiktoken) (3.10)\n",
      "Requirement already satisfied: urllib3<3,>=1.21.1 in /usr/local/lib/python3.11/site-packages (from requests>=2.26.0->tiktoken) (2.4.0)\n",
      "Requirement already satisfied: certifi>=2017.4.17 in /usr/local/lib/python3.11/site-packages (from requests>=2.26.0->tiktoken) (2025.4.26)\n",
      "Downloading tiktoken-0.9.0-cp311-cp311-manylinux_2_17_x86_64.manylinux2014_x86_64.whl (1.2 MB)\n",
      "\u001b[2K   \u001b[90m━━━━━━━━━━━━━━━━━━━━━━━━━━━━━━━━━━━━━━━━\u001b[0m \u001b[32m1.2/1.2 MB\u001b[0m \u001b[31m4.1 MB/s\u001b[0m eta \u001b[36m0:00:00\u001b[0ma \u001b[36m0:00:01\u001b[0m\n",
      "\u001b[?25hDownloading regex-2024.11.6-cp311-cp311-manylinux_2_17_x86_64.manylinux2014_x86_64.whl (792 kB)\n",
      "\u001b[2K   \u001b[90m━━━━━━━━━━━━━━━━━━━━━━━━━━━━━━━━━━━━━━━━\u001b[0m \u001b[32m792.7/792.7 kB\u001b[0m \u001b[31m22.0 MB/s\u001b[0m eta \u001b[36m0:00:00\u001b[0m00:01\u001b[0m\n",
      "\u001b[?25hInstalling collected packages: regex, tiktoken\n",
      "Successfully installed regex-2024.11.6 tiktoken-0.9.0\n",
      "\u001b[33mWARNING: Running pip as the 'root' user can result in broken permissions and conflicting behaviour with the system package manager. It is recommended to use a virtual environment instead: https://pip.pypa.io/warnings/venv\u001b[0m\u001b[33m\n",
      "\u001b[0m\n",
      "\u001b[1m[\u001b[0m\u001b[34;49mnotice\u001b[0m\u001b[1;39;49m]\u001b[0m\u001b[39;49m A new release of pip is available: \u001b[0m\u001b[31;49m24.0\u001b[0m\u001b[39;49m -> \u001b[0m\u001b[32;49m25.1.1\u001b[0m\n",
      "\u001b[1m[\u001b[0m\u001b[34;49mnotice\u001b[0m\u001b[1;39;49m]\u001b[0m\u001b[39;49m To update, run: \u001b[0m\u001b[32;49mpip install --upgrade pip\u001b[0m\n"
     ]
    }
   ],
   "source": [
    "!pip install tiktoken"
   ]
  },
  {
   "cell_type": "code",
   "execution_count": 65,
   "id": "637c2c7d-88f5-46a4-9553-bf5e9a1d4f18",
   "metadata": {},
   "outputs": [],
   "source": [
    "import tiktoken"
   ]
  },
  {
   "cell_type": "code",
   "execution_count": 66,
   "id": "3369fe07-7e08-4904-9561-205279317383",
   "metadata": {},
   "outputs": [],
   "source": [
    "encoding = tiktoken.encoding_for_model(\"gpt-4o\")"
   ]
  },
  {
   "cell_type": "code",
   "execution_count": 81,
   "id": "00bd7bf0-1736-45c9-99b8-e7f4adb968c4",
   "metadata": {},
   "outputs": [],
   "source": [
    "tokens = encoding.encode(prompt)"
   ]
  },
  {
   "cell_type": "code",
   "execution_count": 82,
   "id": "95f48f6c-d52b-43e9-93fc-32a43f60dde8",
   "metadata": {},
   "outputs": [
    {
     "data": {
      "text/plain": [
       "358"
      ]
     },
     "execution_count": 82,
     "metadata": {},
     "output_type": "execute_result"
    }
   ],
   "source": [
    "len(tokens)"
   ]
  }
 ],
 "metadata": {
  "kernelspec": {
   "display_name": "Python 3 (ipykernel)",
   "language": "python",
   "name": "python3"
  },
  "language_info": {
   "codemirror_mode": {
    "name": "ipython",
    "version": 3
   },
   "file_extension": ".py",
   "mimetype": "text/x-python",
   "name": "python",
   "nbconvert_exporter": "python",
   "pygments_lexer": "ipython3",
   "version": "3.11.13"
  }
 },
 "nbformat": 4,
 "nbformat_minor": 5
}
