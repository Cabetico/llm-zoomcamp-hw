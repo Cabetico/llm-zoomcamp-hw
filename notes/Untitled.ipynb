{
 "cells": [
  {
   "cell_type": "markdown",
   "id": "95f25df5-a9ba-4bdd-bf74-96e6f9c09ecc",
   "metadata": {},
   "source": [
    "## TEST OPENAI CLIENT"
   ]
  },
  {
   "cell_type": "markdown",
   "id": "abc70281-d7f3-48ee-9941-17ee6f79deae",
   "metadata": {},
   "source": [
    "```\n",
    "jupyter notebook --ip=0.0.0.0 --port=8889 --no-browser --allow-root\n",
    "```"
   ]
  },
  {
   "cell_type": "code",
   "execution_count": 2,
   "id": "9d6a8574-4784-4bb9-acd5-7dcf4abff740",
   "metadata": {},
   "outputs": [],
   "source": [
    "import os\n",
    "from openai import OpenAI"
   ]
  },
  {
   "cell_type": "code",
   "execution_count": 3,
   "id": "376ebc2b-600e-4a6c-b593-ba2cbe510760",
   "metadata": {},
   "outputs": [],
   "source": [
    "client = OpenAI()"
   ]
  },
  {
   "cell_type": "code",
   "execution_count": 8,
   "id": "b408bafd-c3be-4849-801e-599720611803",
   "metadata": {},
   "outputs": [],
   "source": [
    "response = client.chat.completions.create(\n",
    "    model='gpt-4o',\n",
    "    messages=[{\"role\": \"user\", \"content\": \"Is it too late to join the course?\" }]\n",
    ")"
   ]
  },
  {
   "cell_type": "code",
   "execution_count": 9,
   "id": "14d0f44f-094e-4f8e-95a3-f97c7c3a3ce1",
   "metadata": {},
   "outputs": [
    {
     "data": {
      "text/plain": [
       "ChatCompletion(id='chatcmpl-BftvpniuOdhktzlHX4j710yrSoKHw', choices=[Choice(finish_reason='stop', index=0, logprobs=None, message=ChatCompletionMessage(content=\"To determine whether it is too late to join a course, you'll need to consider several factors:\\n\\n1. **Enrollment Deadline:** Check if the course has a specific enrollment deadline or open enrollment period, and see if those dates have passed.\\n\\n2. **Course Start Date:** If the course has already begun, consider how much of the course content you have missed and whether the institution allows late enrollment.\\n\\n3. **Institution Policies:** Policies about late registration vary by institution. Some may allow students to join late with certain conditions or additional fees.\\n\\n4. **Course Format:** For self-paced or online courses, you might be able to start at any time, whereas traditional in-person courses may have stricter timelines.\\n\\n5. **Contact the Institution:** If you’re uncertain, the best step is to contact the administration or the course instructor directly for the most accurate information.\\n\\nIf you provide more specific details about the course you're considering, I might be able to offer more tailored advice!\", refusal=None, role='assistant', annotations=[], audio=None, function_call=None, tool_calls=None))], created=1749326149, model='gpt-4o-2024-08-06', object='chat.completion', service_tier='default', system_fingerprint='fp_07871e2ad8', usage=CompletionUsage(completion_tokens=194, prompt_tokens=16, total_tokens=210, completion_tokens_details=CompletionTokensDetails(accepted_prediction_tokens=0, audio_tokens=0, reasoning_tokens=0, rejected_prediction_tokens=0), prompt_tokens_details=PromptTokensDetails(audio_tokens=0, cached_tokens=0)))"
      ]
     },
     "execution_count": 9,
     "metadata": {},
     "output_type": "execute_result"
    }
   ],
   "source": [
    "response"
   ]
  },
  {
   "cell_type": "code",
   "execution_count": null,
   "id": "c5e0c5e9-80b7-499d-a6d5-a36c9b068be4",
   "metadata": {},
   "outputs": [],
   "source": [
    " "
   ]
  }
 ],
 "metadata": {
  "kernelspec": {
   "display_name": "Python 3 (ipykernel)",
   "language": "python",
   "name": "python3"
  },
  "language_info": {
   "codemirror_mode": {
    "name": "ipython",
    "version": 3
   },
   "file_extension": ".py",
   "mimetype": "text/x-python",
   "name": "python",
   "nbconvert_exporter": "python",
   "pygments_lexer": "ipython3",
   "version": "3.11.13"
  }
 },
 "nbformat": 4,
 "nbformat_minor": 5
}
